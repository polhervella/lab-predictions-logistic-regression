{
 "cells": [
  {
   "cell_type": "markdown",
   "metadata": {},
   "source": [
    "## Instructions\n",
    "\n",
    "In this ~bonus lab~ business case study, you will be using the Sakila database of movie rentals. Choose one of the cases below, or both if you dare:\n",
    "\n",
    "**Case 1:**\n",
    "\n",
    "We will be trying to predict if a **customer will be renting a film** this month based on their previous activity and other details. We will first construct a table with:\n",
    "\n",
    "    Customer ID\n",
    "    City\n",
    "    Most rented film category\n",
    "    Total films rented\n",
    "    Total money spent\n",
    "    How many films rented last month (MAY/2005)\n",
    "    If the customer rented a movie this month (JUNE/2005)\n",
    "\n",
    "Once you extract that information, and any other that seems fit, predict which customers will be renting this month.\n",
    "\n",
    "**Case 2:**\n",
    "\n",
    "We will be trying to predict if a **film will be rented** this month based on their previous activity and other details. We will first construct a table with:\n",
    "\n",
    "    Film ID\n",
    "    Category\n",
    "    Total number of copies\n",
    "    *Bonus - How many \"stars\" actrs. in the film *\n",
    "    How many times the film was rented last month (MAY/2005)\n",
    "    If the film was rented this month (JUNE/2005)\n",
    "\n",
    "Once you extract that information, and any other that seems fit, predict which customers will be renting this month.\n",
    "\n",
    "**Suggestions:**\n",
    "\n",
    "Format your notebook as a report, in a way that someone who didn't know your project could read and understand.\n",
    "\n",
    "Explain any transformation/scaling/feature engineering you apply (no need to explain data cleaning steps).\n",
    "\n",
    "Write some conclusions: how would this prediction impact the business? what are your constraints in this business case? is it a good predictive model? any problems you suspect of? any ideas on how to solve the problem and/or improve the model?\n",
    "\n",
    "**Bonus - Challenge:** Choose another target variable and explore other possibilities of predictions. Make sure to explain your business application and hypothesis."
   ]
  },
  {
   "cell_type": "code",
   "execution_count": null,
   "metadata": {},
   "outputs": [],
   "source": []
  }
 ],
 "metadata": {
  "kernelspec": {
   "display_name": "Python 3",
   "language": "python",
   "name": "python3"
  },
  "language_info": {
   "codemirror_mode": {
    "name": "ipython",
    "version": 3
   },
   "file_extension": ".py",
   "mimetype": "text/x-python",
   "name": "python",
   "nbconvert_exporter": "python",
   "pygments_lexer": "ipython3",
   "version": "3.8.5"
  }
 },
 "nbformat": 4,
 "nbformat_minor": 4
}
