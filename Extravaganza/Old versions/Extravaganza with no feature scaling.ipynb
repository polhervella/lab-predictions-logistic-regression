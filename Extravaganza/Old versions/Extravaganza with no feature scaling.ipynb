{
 "cells": [
  {
   "cell_type": "markdown",
   "metadata": {},
   "source": [
    "# EXTRAVAGANZA ML LAB"
   ]
  },
  {
   "cell_type": "code",
   "execution_count": 1,
   "metadata": {},
   "outputs": [],
   "source": [
    "#The store is my client!"
   ]
  },
  {
   "cell_type": "markdown",
   "metadata": {},
   "source": [
    "# Importing data from SQL database"
   ]
  },
  {
   "cell_type": "code",
   "execution_count": 2,
   "metadata": {},
   "outputs": [
    {
     "name": "stdout",
     "output_type": "stream",
     "text": [
      "········\n"
     ]
    }
   ],
   "source": [
    "import pymysql\n",
    "from sqlalchemy import create_engine\n",
    "import pandas as pd\n",
    "import getpass  # to get the password without showing the input\n",
    "password = getpass.getpass()"
   ]
  },
  {
   "cell_type": "code",
   "execution_count": 3,
   "metadata": {},
   "outputs": [],
   "source": [
    "connection_string = 'mysql+pymysql://root:' + password + '@localhost/sakila'\n",
    "engine = create_engine(connection_string)"
   ]
  },
  {
   "cell_type": "code",
   "execution_count": 4,
   "metadata": {
    "scrolled": false
   },
   "outputs": [
    {
     "data": {
      "text/html": [
       "<div>\n",
       "<style scoped>\n",
       "    .dataframe tbody tr th:only-of-type {\n",
       "        vertical-align: middle;\n",
       "    }\n",
       "\n",
       "    .dataframe tbody tr th {\n",
       "        vertical-align: top;\n",
       "    }\n",
       "\n",
       "    .dataframe thead th {\n",
       "        text-align: right;\n",
       "    }\n",
       "</style>\n",
       "<table border=\"1\" class=\"dataframe\">\n",
       "  <thead>\n",
       "    <tr style=\"text-align: right;\">\n",
       "      <th></th>\n",
       "      <th>customer_id</th>\n",
       "      <th>city</th>\n",
       "      <th>category</th>\n",
       "      <th>number_of_films_rented</th>\n",
       "      <th>total_money_spent</th>\n",
       "      <th>films_rented_may_2005</th>\n",
       "      <th>question</th>\n",
       "    </tr>\n",
       "  </thead>\n",
       "  <tbody>\n",
       "    <tr>\n",
       "      <th>0</th>\n",
       "      <td>1</td>\n",
       "      <td>Sasebo</td>\n",
       "      <td>Classics</td>\n",
       "      <td>1024</td>\n",
       "      <td>3797.76</td>\n",
       "      <td>64.0</td>\n",
       "      <td>YES</td>\n",
       "    </tr>\n",
       "    <tr>\n",
       "      <th>1</th>\n",
       "      <td>2</td>\n",
       "      <td>San Bernardino</td>\n",
       "      <td>Sports</td>\n",
       "      <td>729</td>\n",
       "      <td>3475.71</td>\n",
       "      <td>27.0</td>\n",
       "      <td>YES</td>\n",
       "    </tr>\n",
       "    <tr>\n",
       "      <th>2</th>\n",
       "      <td>3</td>\n",
       "      <td>Athenai</td>\n",
       "      <td>Action</td>\n",
       "      <td>676</td>\n",
       "      <td>3529.24</td>\n",
       "      <td>52.0</td>\n",
       "      <td>YES</td>\n",
       "    </tr>\n",
       "    <tr>\n",
       "      <th>3</th>\n",
       "      <td>4</td>\n",
       "      <td>Myingyan</td>\n",
       "      <td>Horror</td>\n",
       "      <td>484</td>\n",
       "      <td>1799.16</td>\n",
       "      <td>NaN</td>\n",
       "      <td>YES</td>\n",
       "    </tr>\n",
       "    <tr>\n",
       "      <th>4</th>\n",
       "      <td>5</td>\n",
       "      <td>Nantou</td>\n",
       "      <td>Classics</td>\n",
       "      <td>1444</td>\n",
       "      <td>5495.56</td>\n",
       "      <td>114.0</td>\n",
       "      <td>YES</td>\n",
       "    </tr>\n",
       "    <tr>\n",
       "      <th>...</th>\n",
       "      <td>...</td>\n",
       "      <td>...</td>\n",
       "      <td>...</td>\n",
       "      <td>...</td>\n",
       "      <td>...</td>\n",
       "      <td>...</td>\n",
       "      <td>...</td>\n",
       "    </tr>\n",
       "    <tr>\n",
       "      <th>594</th>\n",
       "      <td>595</td>\n",
       "      <td>Jinzhou</td>\n",
       "      <td>Documentary</td>\n",
       "      <td>900</td>\n",
       "      <td>3531.00</td>\n",
       "      <td>30.0</td>\n",
       "      <td>YES</td>\n",
       "    </tr>\n",
       "    <tr>\n",
       "      <th>595</th>\n",
       "      <td>596</td>\n",
       "      <td>Patras</td>\n",
       "      <td>Sports</td>\n",
       "      <td>784</td>\n",
       "      <td>2708.16</td>\n",
       "      <td>168.0</td>\n",
       "      <td>YES</td>\n",
       "    </tr>\n",
       "    <tr>\n",
       "      <th>596</th>\n",
       "      <td>597</td>\n",
       "      <td>Sullana</td>\n",
       "      <td>Foreign</td>\n",
       "      <td>625</td>\n",
       "      <td>2493.75</td>\n",
       "      <td>50.0</td>\n",
       "      <td>YES</td>\n",
       "    </tr>\n",
       "    <tr>\n",
       "      <th>597</th>\n",
       "      <td>598</td>\n",
       "      <td>Lausanne</td>\n",
       "      <td>Drama</td>\n",
       "      <td>484</td>\n",
       "      <td>1843.16</td>\n",
       "      <td>NaN</td>\n",
       "      <td>YES</td>\n",
       "    </tr>\n",
       "    <tr>\n",
       "      <th>598</th>\n",
       "      <td>599</td>\n",
       "      <td>Tieli</td>\n",
       "      <td>Sci-Fi</td>\n",
       "      <td>361</td>\n",
       "      <td>1592.39</td>\n",
       "      <td>19.0</td>\n",
       "      <td>YES</td>\n",
       "    </tr>\n",
       "  </tbody>\n",
       "</table>\n",
       "<p>599 rows × 7 columns</p>\n",
       "</div>"
      ],
      "text/plain": [
       "     customer_id            city     category  number_of_films_rented  \\\n",
       "0              1          Sasebo     Classics                    1024   \n",
       "1              2  San Bernardino       Sports                     729   \n",
       "2              3         Athenai       Action                     676   \n",
       "3              4        Myingyan       Horror                     484   \n",
       "4              5          Nantou     Classics                    1444   \n",
       "..           ...             ...          ...                     ...   \n",
       "594          595         Jinzhou  Documentary                     900   \n",
       "595          596          Patras       Sports                     784   \n",
       "596          597         Sullana      Foreign                     625   \n",
       "597          598        Lausanne        Drama                     484   \n",
       "598          599           Tieli       Sci-Fi                     361   \n",
       "\n",
       "     total_money_spent  films_rented_may_2005 question  \n",
       "0              3797.76                   64.0      YES  \n",
       "1              3475.71                   27.0      YES  \n",
       "2              3529.24                   52.0      YES  \n",
       "3              1799.16                    NaN      YES  \n",
       "4              5495.56                  114.0      YES  \n",
       "..                 ...                    ...      ...  \n",
       "594            3531.00                   30.0      YES  \n",
       "595            2708.16                  168.0      YES  \n",
       "596            2493.75                   50.0      YES  \n",
       "597            1843.16                    NaN      YES  \n",
       "598            1592.39                   19.0      YES  \n",
       "\n",
       "[599 rows x 7 columns]"
      ]
     },
     "execution_count": 4,
     "metadata": {},
     "output_type": "execute_result"
    }
   ],
   "source": [
    "data1 = pd.read_sql_query('SELECT table_query1.customer_id, city, category, number_of_films_rented, total_money_spent, films_rented_may_2005, question FROM query1 as table_query1 LEFT JOIN query2 as table_query2 on table_query1.customer_id = table_query2.customer_id LEFT JOIN query3 as table_query3 on table_query2.customer_id = table_query3.customer_id LEFT JOIN query4 as table_query4 on table_query1.customer_id = table_query4.customer_id LEFT JOIN query5 as table_query5 on table_query1.customer_id = table_query5.customer_id LEFT JOIN sakila.customer as customer_table on table_query1.customer_id = customer_table.customer_id LEFT JOIN sakila.address as address_table on customer_table.address_id = address_table.address_id LEFT JOIN sakila.city as city_table on address_table.city_id = city_table.city_id;', engine)\n",
    "data1"
   ]
  },
  {
   "cell_type": "markdown",
   "metadata": {},
   "source": [
    "# Data cleaning"
   ]
  },
  {
   "cell_type": "code",
   "execution_count": 5,
   "metadata": {},
   "outputs": [],
   "source": [
    "# setting customer_id as index\n",
    "\n",
    "data1 = data1.set_index('customer_id')"
   ]
  },
  {
   "cell_type": "code",
   "execution_count": 6,
   "metadata": {},
   "outputs": [
    {
     "data": {
      "text/plain": [
       "city                       0\n",
       "category                   0\n",
       "number_of_films_rented     0\n",
       "total_money_spent          0\n",
       "films_rented_may_2005     79\n",
       "question                   9\n",
       "dtype: int64"
      ]
     },
     "execution_count": 6,
     "metadata": {},
     "output_type": "execute_result"
    }
   ],
   "source": [
    "#checking for nulls\n",
    "\n",
    "data1.isna().sum()"
   ]
  },
  {
   "cell_type": "code",
   "execution_count": 7,
   "metadata": {},
   "outputs": [],
   "source": [
    "# Filling nulls\n",
    "\n",
    "data1[\"question\"].fillna(\"NO\", inplace = True) "
   ]
  },
  {
   "cell_type": "code",
   "execution_count": 8,
   "metadata": {},
   "outputs": [],
   "source": [
    "data1[\"films_rented_may_2005\"].fillna(0, inplace = True) "
   ]
  },
  {
   "cell_type": "code",
   "execution_count": 9,
   "metadata": {},
   "outputs": [
    {
     "data": {
      "text/plain": [
       "city                      0\n",
       "category                  0\n",
       "number_of_films_rented    0\n",
       "total_money_spent         0\n",
       "films_rented_may_2005     0\n",
       "question                  0\n",
       "dtype: int64"
      ]
     },
     "execution_count": 9,
     "metadata": {},
     "output_type": "execute_result"
    }
   ],
   "source": [
    "# Making sure that I do not have any more nulls\n",
    "\n",
    "data1.isna().sum()"
   ]
  },
  {
   "cell_type": "code",
   "execution_count": 10,
   "metadata": {},
   "outputs": [
    {
     "data": {
      "text/plain": [
       "city                       object\n",
       "category                   object\n",
       "number_of_films_rented      int64\n",
       "total_money_spent         float64\n",
       "films_rented_may_2005     float64\n",
       "question                   object\n",
       "dtype: object"
      ]
     },
     "execution_count": 10,
     "metadata": {},
     "output_type": "execute_result"
    }
   ],
   "source": [
    "data1.dtypes"
   ]
  },
  {
   "cell_type": "code",
   "execution_count": 11,
   "metadata": {},
   "outputs": [],
   "source": [
    "# changing films_rented_may_2005 data type to integer. \n",
    "\n",
    "data1[\"films_rented_may_2005\"] = data1[\"films_rented_may_2005\"].apply(lambda x: int((float(x))))"
   ]
  },
  {
   "cell_type": "code",
   "execution_count": 12,
   "metadata": {
    "scrolled": false
   },
   "outputs": [
    {
     "data": {
      "text/plain": [
       "city                       object\n",
       "category                   object\n",
       "number_of_films_rented      int64\n",
       "total_money_spent         float64\n",
       "films_rented_may_2005       int64\n",
       "question                   object\n",
       "dtype: object"
      ]
     },
     "execution_count": 12,
     "metadata": {},
     "output_type": "execute_result"
    }
   ],
   "source": [
    "data1.dtypes"
   ]
  },
  {
   "cell_type": "code",
   "execution_count": 13,
   "metadata": {},
   "outputs": [],
   "source": [
    "import numpy as np"
   ]
  },
  {
   "cell_type": "code",
   "execution_count": 14,
   "metadata": {},
   "outputs": [],
   "source": [
    "# Separating numerical & categorical values\n",
    "\n",
    "data_num = data1.select_dtypes(np.number)\n",
    "data_cat = data1.select_dtypes(np.object)"
   ]
  },
  {
   "cell_type": "code",
   "execution_count": 15,
   "metadata": {
    "scrolled": true
   },
   "outputs": [
    {
     "name": "stdout",
     "output_type": "stream",
     "text": [
      "London                   2\n",
      "Aurora                   2\n",
      "Munger (Monghyr)         1\n",
      "Allappuzha (Alleppey)    1\n",
      "Leshan                   1\n",
      "                        ..\n",
      "Bhopal                   1\n",
      "Bratislava               1\n",
      "El Alto                  1\n",
      "Shikarpur                1\n",
      "Hino                     1\n",
      "Name: city, Length: 597, dtype: int64 \n",
      "\n",
      "Sports         62\n",
      "Sci-Fi         59\n",
      "Animation      57\n",
      "Documentary    49\n",
      "Action         43\n",
      "Family         39\n",
      "New            39\n",
      "Foreign        39\n",
      "Drama          36\n",
      "Games          33\n",
      "Classics       31\n",
      "Travel         23\n",
      "Comedy         23\n",
      "Children       23\n",
      "Horror         22\n",
      "Music          21\n",
      "Name: category, dtype: int64 \n",
      "\n",
      "YES    590\n",
      "NO       9\n",
      "Name: question, dtype: int64 \n",
      "\n"
     ]
    }
   ],
   "source": [
    "for col in data1.select_dtypes('object'):\n",
    "    print(data1[col].value_counts(), '\\n')"
   ]
  },
  {
   "cell_type": "markdown",
   "metadata": {},
   "source": [
    "# EDA"
   ]
  },
  {
   "cell_type": "code",
   "execution_count": 16,
   "metadata": {
    "scrolled": true
   },
   "outputs": [
    {
     "data": {
      "text/html": [
       "<div>\n",
       "<style scoped>\n",
       "    .dataframe tbody tr th:only-of-type {\n",
       "        vertical-align: middle;\n",
       "    }\n",
       "\n",
       "    .dataframe tbody tr th {\n",
       "        vertical-align: top;\n",
       "    }\n",
       "\n",
       "    .dataframe thead th {\n",
       "        text-align: right;\n",
       "    }\n",
       "</style>\n",
       "<table border=\"1\" class=\"dataframe\">\n",
       "  <thead>\n",
       "    <tr style=\"text-align: right;\">\n",
       "      <th></th>\n",
       "      <th>number_of_films_rented</th>\n",
       "      <th>total_money_spent</th>\n",
       "      <th>films_rented_may_2005</th>\n",
       "    </tr>\n",
       "  </thead>\n",
       "  <tbody>\n",
       "    <tr>\n",
       "      <th>count</th>\n",
       "      <td>599.000000</td>\n",
       "      <td>599.000000</td>\n",
       "      <td>599.000000</td>\n",
       "    </tr>\n",
       "    <tr>\n",
       "      <th>mean</th>\n",
       "      <td>743.831386</td>\n",
       "      <td>3127.713606</td>\n",
       "      <td>53.287145</td>\n",
       "    </tr>\n",
       "    <tr>\n",
       "      <th>std</th>\n",
       "      <td>283.229813</td>\n",
       "      <td>1274.733932</td>\n",
       "      <td>43.397876</td>\n",
       "    </tr>\n",
       "    <tr>\n",
       "      <th>min</th>\n",
       "      <td>144.000000</td>\n",
       "      <td>634.560000</td>\n",
       "      <td>0.000000</td>\n",
       "    </tr>\n",
       "    <tr>\n",
       "      <th>25%</th>\n",
       "      <td>529.000000</td>\n",
       "      <td>2232.700000</td>\n",
       "      <td>25.000000</td>\n",
       "    </tr>\n",
       "    <tr>\n",
       "      <th>50%</th>\n",
       "      <td>676.000000</td>\n",
       "      <td>2943.750000</td>\n",
       "      <td>46.000000</td>\n",
       "    </tr>\n",
       "    <tr>\n",
       "      <th>75%</th>\n",
       "      <td>900.000000</td>\n",
       "      <td>3800.580000</td>\n",
       "      <td>70.000000</td>\n",
       "    </tr>\n",
       "    <tr>\n",
       "      <th>max</th>\n",
       "      <td>2116.000000</td>\n",
       "      <td>9969.750000</td>\n",
       "      <td>320.000000</td>\n",
       "    </tr>\n",
       "  </tbody>\n",
       "</table>\n",
       "</div>"
      ],
      "text/plain": [
       "       number_of_films_rented  total_money_spent  films_rented_may_2005\n",
       "count              599.000000         599.000000             599.000000\n",
       "mean               743.831386        3127.713606              53.287145\n",
       "std                283.229813        1274.733932              43.397876\n",
       "min                144.000000         634.560000               0.000000\n",
       "25%                529.000000        2232.700000              25.000000\n",
       "50%                676.000000        2943.750000              46.000000\n",
       "75%                900.000000        3800.580000              70.000000\n",
       "max               2116.000000        9969.750000             320.000000"
      ]
     },
     "execution_count": 16,
     "metadata": {},
     "output_type": "execute_result"
    }
   ],
   "source": [
    "data1.describe()"
   ]
  },
  {
   "cell_type": "code",
   "execution_count": 17,
   "metadata": {
    "scrolled": true
   },
   "outputs": [
    {
     "data": {
      "text/html": [
       "<div>\n",
       "<style scoped>\n",
       "    .dataframe tbody tr th:only-of-type {\n",
       "        vertical-align: middle;\n",
       "    }\n",
       "\n",
       "    .dataframe tbody tr th {\n",
       "        vertical-align: top;\n",
       "    }\n",
       "\n",
       "    .dataframe thead th {\n",
       "        text-align: right;\n",
       "    }\n",
       "</style>\n",
       "<table border=\"1\" class=\"dataframe\">\n",
       "  <thead>\n",
       "    <tr style=\"text-align: right;\">\n",
       "      <th></th>\n",
       "      <th>number_of_films_rented</th>\n",
       "      <th>total_money_spent</th>\n",
       "      <th>films_rented_may_2005</th>\n",
       "    </tr>\n",
       "  </thead>\n",
       "  <tbody>\n",
       "    <tr>\n",
       "      <th>number_of_films_rented</th>\n",
       "      <td>1.000000</td>\n",
       "      <td>0.957159</td>\n",
       "      <td>0.424372</td>\n",
       "    </tr>\n",
       "    <tr>\n",
       "      <th>total_money_spent</th>\n",
       "      <td>0.957159</td>\n",
       "      <td>1.000000</td>\n",
       "      <td>0.411350</td>\n",
       "    </tr>\n",
       "    <tr>\n",
       "      <th>films_rented_may_2005</th>\n",
       "      <td>0.424372</td>\n",
       "      <td>0.411350</td>\n",
       "      <td>1.000000</td>\n",
       "    </tr>\n",
       "  </tbody>\n",
       "</table>\n",
       "</div>"
      ],
      "text/plain": [
       "                        number_of_films_rented  total_money_spent  \\\n",
       "number_of_films_rented                1.000000           0.957159   \n",
       "total_money_spent                     0.957159           1.000000   \n",
       "films_rented_may_2005                 0.424372           0.411350   \n",
       "\n",
       "                        films_rented_may_2005  \n",
       "number_of_films_rented               0.424372  \n",
       "total_money_spent                    0.411350  \n",
       "films_rented_may_2005                1.000000  "
      ]
     },
     "execution_count": 17,
     "metadata": {},
     "output_type": "execute_result"
    }
   ],
   "source": [
    "# checking data correlations\n",
    "\n",
    "data_corr = data1.corr(method='spearman')\n",
    "data_corr"
   ]
  },
  {
   "cell_type": "code",
   "execution_count": 18,
   "metadata": {},
   "outputs": [],
   "source": [
    "import matplotlib.pyplot as plt\n",
    "import seaborn as sns\n",
    "import scipy.stats as stats"
   ]
  },
  {
   "cell_type": "code",
   "execution_count": 19,
   "metadata": {},
   "outputs": [
    {
     "data": {
      "image/png": "[encoded data removed]",
      "text/plain": [
       "<Figure size 720x576 with 2 Axes>"
      ]
     },
     "metadata": {
      "needs_background": "light"
     },
     "output_type": "display_data"
    }
   ],
   "source": [
    "mask = np.zeros_like(data_corr)\n",
    "\n",
    "mask[np.triu_indices_from(mask)] = True \n",
    "\n",
    "fig, ax = plt.subplots(figsize=(10, 8))\n",
    "ax = sns.heatmap(data_corr, mask=mask, annot=True)\n",
    "plt.show()"
   ]
  },
  {
   "cell_type": "code",
   "execution_count": 20,
   "metadata": {
    "scrolled": false
   },
   "outputs": [
    {
     "name": "stderr",
     "output_type": "stream",
     "text": [
      "/Users/pol/opt/anaconda3/lib/python3.8/site-packages/seaborn/distributions.py:2551: FutureWarning: `distplot` is a deprecated function and will be removed in a future version. Please adapt your code to use either `displot` (a figure-level function with similar flexibility) or `histplot` (an axes-level function for histograms).\n",
      "  warnings.warn(msg, FutureWarning)\n"
     ]
    },
    {
     "data": {
      "image/png": "[encoded data removed]",
      "text/plain": [
       "<Figure size 432x288 with 1 Axes>"
      ]
     },
     "metadata": {
      "needs_background": "light"
     },
     "output_type": "display_data"
    },
    {
     "name": "stderr",
     "output_type": "stream",
     "text": [
      "/Users/pol/opt/anaconda3/lib/python3.8/site-packages/seaborn/distributions.py:2551: FutureWarning: `distplot` is a deprecated function and will be removed in a future version. Please adapt your code to use either `displot` (a figure-level function with similar flexibility) or `histplot` (an axes-level function for histograms).\n",
      "  warnings.warn(msg, FutureWarning)\n"
     ]
    },
    {
     "data": {
      "image/png": "[encoded data removed]",
      "text/plain": [
       "<Figure size 432x288 with 1 Axes>"
      ]
     },
     "metadata": {
      "needs_background": "light"
     },
     "output_type": "display_data"
    },
    {
     "name": "stderr",
     "output_type": "stream",
     "text": [
      "/Users/pol/opt/anaconda3/lib/python3.8/site-packages/seaborn/distributions.py:2551: FutureWarning: `distplot` is a deprecated function and will be removed in a future version. Please adapt your code to use either `displot` (a figure-level function with similar flexibility) or `histplot` (an axes-level function for histograms).\n",
      "  warnings.warn(msg, FutureWarning)\n"
     ]
    },
    {
     "data": {
      "image/png": "[encoded data removed]",
      "text/plain": [
       "<Figure size 432x288 with 1 Axes>"
      ]
     },
     "metadata": {
      "needs_background": "light"
     },
     "output_type": "display_data"
    }
   ],
   "source": [
    "for column in data_num.columns:\n",
    "    sns.distplot(data_num[column])\n",
    "    plt.show()"
   ]
  },
  {
   "cell_type": "code",
   "execution_count": 21,
   "metadata": {
    "scrolled": false
   },
   "outputs": [
    {
     "data": {
      "text/plain": [
       "<AxesSubplot:>"
      ]
     },
     "execution_count": 21,
     "metadata": {},
     "output_type": "execute_result"
    },
    {
     "data": {
      "image/png": "[encoded data removed]",
      "text/plain": [
       "<Figure size 432x288 with 1 Axes>"
      ]
     },
     "metadata": {
      "needs_background": "light"
     },
     "output_type": "display_data"
    }
   ],
   "source": [
    "# Film categories...\n",
    "\n",
    "data1['category'].value_counts().head(10).plot.bar()"
   ]
  },
  {
   "cell_type": "code",
   "execution_count": 22,
   "metadata": {
    "scrolled": false
   },
   "outputs": [
    {
     "data": {
      "text/plain": [
       "<AxesSubplot:>"
      ]
     },
     "execution_count": 22,
     "metadata": {},
     "output_type": "execute_result"
    },
    {
     "data": {
      "image/png": "[encoded data removed]",
      "text/plain": [
       "<Figure size 432x288 with 1 Axes>"
      ]
     },
     "metadata": {
      "needs_background": "light"
     },
     "output_type": "display_data"
    }
   ],
   "source": [
    "# people that watch a film last month...\n",
    "\n",
    "data1['question'].value_counts().head(10).plot.bar()"
   ]
  },
  {
   "cell_type": "code",
   "execution_count": 23,
   "metadata": {
    "scrolled": true
   },
   "outputs": [
    {
     "data": {
      "image/png": "[encoded data removed]",
      "text/plain": [
       "<Figure size 1008x720 with 1 Axes>"
      ]
     },
     "metadata": {
      "needs_background": "light"
     },
     "output_type": "display_data"
    }
   ],
   "source": [
    " # relating variables... total money spent per category\n",
    "    \n",
    "\n",
    "# Set the figure size\n",
    "plt.figure(figsize=(14, 10))\n",
    "\n",
    "# Reorder this data frame - this doesn't work...\n",
    "\n",
    "data1 = data1.sort_values('total_money_spent').reset_index()\n",
    "\n",
    "sns.barplot(\n",
    "    x=\"total_money_spent\", \n",
    "    y=\"category\", \n",
    "    data=data1, \n",
    "    estimator=sum, \n",
    "    ci=None, \n",
    "    color='#69b3a2'\n",
    ");"
   ]
  },
  {
   "cell_type": "code",
   "execution_count": 24,
   "metadata": {},
   "outputs": [
    {
     "data": {
      "image/png": "[encoded data removed]",
      "text/plain": [
       "<Figure size 1008x720 with 1 Axes>"
      ]
     },
     "metadata": {
      "needs_background": "light"
     },
     "output_type": "display_data"
    }
   ],
   "source": [
    "\n",
    "# Set the figure size\n",
    "plt.figure(figsize=(14, 10))\n",
    "\n",
    "sns.barplot(\n",
    "    x=\"number_of_films_rented\", \n",
    "    y=\"category\", \n",
    "    data=data1, \n",
    "    estimator=sum, \n",
    "    ci=None, \n",
    "    color='#69b3a2'\n",
    ");"
   ]
  },
  {
   "cell_type": "code",
   "execution_count": 25,
   "metadata": {
    "scrolled": true
   },
   "outputs": [
    {
     "data": {
      "image/png": "[encoded data removed]",
      "text/plain": [
       "<Figure size 1152x1152 with 1 Axes>"
      ]
     },
     "metadata": {
      "needs_background": "light"
     },
     "output_type": "display_data"
    }
   ],
   "source": [
    "plt.figure(figsize=(16,16))\n",
    "sns.barplot(x=\"category\", y=\"total_money_spent\", data=data1)\n",
    "plt.show()"
   ]
  },
  {
   "cell_type": "markdown",
   "metadata": {},
   "source": [
    "# Feature scaling"
   ]
  },
  {
   "cell_type": "markdown",
   "metadata": {},
   "source": [
    "# Solving data imbalance"
   ]
  },
  {
   "cell_type": "code",
   "execution_count": 26,
   "metadata": {},
   "outputs": [],
   "source": [
    "# We proceed to drop city column as the values are really disperse and they add no value to our model (many cities,mostly only one customer per city)\n",
    "\n",
    "data1 = data1.drop('city', axis=1)"
   ]
  },
  {
   "cell_type": "code",
   "execution_count": 27,
   "metadata": {},
   "outputs": [
    {
     "data": {
      "text/html": [
       "<div>\n",
       "<style scoped>\n",
       "    .dataframe tbody tr th:only-of-type {\n",
       "        vertical-align: middle;\n",
       "    }\n",
       "\n",
       "    .dataframe tbody tr th {\n",
       "        vertical-align: top;\n",
       "    }\n",
       "\n",
       "    .dataframe thead th {\n",
       "        text-align: right;\n",
       "    }\n",
       "</style>\n",
       "<table border=\"1\" class=\"dataframe\">\n",
       "  <thead>\n",
       "    <tr style=\"text-align: right;\">\n",
       "      <th></th>\n",
       "      <th>customer_id</th>\n",
       "      <th>number_of_films_rented</th>\n",
       "      <th>total_money_spent</th>\n",
       "      <th>films_rented_may_2005</th>\n",
       "      <th>question</th>\n",
       "      <th>category_Action</th>\n",
       "      <th>category_Animation</th>\n",
       "      <th>category_Children</th>\n",
       "      <th>category_Classics</th>\n",
       "      <th>category_Comedy</th>\n",
       "      <th>...</th>\n",
       "      <th>category_Drama</th>\n",
       "      <th>category_Family</th>\n",
       "      <th>category_Foreign</th>\n",
       "      <th>category_Games</th>\n",
       "      <th>category_Horror</th>\n",
       "      <th>category_Music</th>\n",
       "      <th>category_New</th>\n",
       "      <th>category_Sci-Fi</th>\n",
       "      <th>category_Sports</th>\n",
       "      <th>category_Travel</th>\n",
       "    </tr>\n",
       "  </thead>\n",
       "  <tbody>\n",
       "    <tr>\n",
       "      <th>0</th>\n",
       "      <td>318</td>\n",
       "      <td>144</td>\n",
       "      <td>634.56</td>\n",
       "      <td>12</td>\n",
       "      <td>YES</td>\n",
       "      <td>0</td>\n",
       "      <td>0</td>\n",
       "      <td>0</td>\n",
       "      <td>0</td>\n",
       "      <td>0</td>\n",
       "      <td>...</td>\n",
       "      <td>0</td>\n",
       "      <td>0</td>\n",
       "      <td>0</td>\n",
       "      <td>0</td>\n",
       "      <td>0</td>\n",
       "      <td>0</td>\n",
       "      <td>0</td>\n",
       "      <td>0</td>\n",
       "      <td>0</td>\n",
       "      <td>0</td>\n",
       "    </tr>\n",
       "    <tr>\n",
       "      <th>1</th>\n",
       "      <td>281</td>\n",
       "      <td>196</td>\n",
       "      <td>712.04</td>\n",
       "      <td>28</td>\n",
       "      <td>YES</td>\n",
       "      <td>0</td>\n",
       "      <td>0</td>\n",
       "      <td>0</td>\n",
       "      <td>0</td>\n",
       "      <td>0</td>\n",
       "      <td>...</td>\n",
       "      <td>0</td>\n",
       "      <td>1</td>\n",
       "      <td>0</td>\n",
       "      <td>0</td>\n",
       "      <td>0</td>\n",
       "      <td>0</td>\n",
       "      <td>0</td>\n",
       "      <td>0</td>\n",
       "      <td>0</td>\n",
       "      <td>0</td>\n",
       "    </tr>\n",
       "    <tr>\n",
       "      <th>2</th>\n",
       "      <td>248</td>\n",
       "      <td>225</td>\n",
       "      <td>762.75</td>\n",
       "      <td>30</td>\n",
       "      <td>YES</td>\n",
       "      <td>0</td>\n",
       "      <td>0</td>\n",
       "      <td>0</td>\n",
       "      <td>0</td>\n",
       "      <td>0</td>\n",
       "      <td>...</td>\n",
       "      <td>0</td>\n",
       "      <td>0</td>\n",
       "      <td>0</td>\n",
       "      <td>0</td>\n",
       "      <td>0</td>\n",
       "      <td>0</td>\n",
       "      <td>0</td>\n",
       "      <td>1</td>\n",
       "      <td>0</td>\n",
       "      <td>0</td>\n",
       "    </tr>\n",
       "    <tr>\n",
       "      <th>3</th>\n",
       "      <td>61</td>\n",
       "      <td>196</td>\n",
       "      <td>824.04</td>\n",
       "      <td>14</td>\n",
       "      <td>NO</td>\n",
       "      <td>0</td>\n",
       "      <td>0</td>\n",
       "      <td>0</td>\n",
       "      <td>0</td>\n",
       "      <td>0</td>\n",
       "      <td>...</td>\n",
       "      <td>1</td>\n",
       "      <td>0</td>\n",
       "      <td>0</td>\n",
       "      <td>0</td>\n",
       "      <td>0</td>\n",
       "      <td>0</td>\n",
       "      <td>0</td>\n",
       "      <td>0</td>\n",
       "      <td>0</td>\n",
       "      <td>0</td>\n",
       "    </tr>\n",
       "    <tr>\n",
       "      <th>4</th>\n",
       "      <td>110</td>\n",
       "      <td>196</td>\n",
       "      <td>838.04</td>\n",
       "      <td>28</td>\n",
       "      <td>YES</td>\n",
       "      <td>0</td>\n",
       "      <td>0</td>\n",
       "      <td>0</td>\n",
       "      <td>0</td>\n",
       "      <td>0</td>\n",
       "      <td>...</td>\n",
       "      <td>1</td>\n",
       "      <td>0</td>\n",
       "      <td>0</td>\n",
       "      <td>0</td>\n",
       "      <td>0</td>\n",
       "      <td>0</td>\n",
       "      <td>0</td>\n",
       "      <td>0</td>\n",
       "      <td>0</td>\n",
       "      <td>0</td>\n",
       "    </tr>\n",
       "    <tr>\n",
       "      <th>...</th>\n",
       "      <td>...</td>\n",
       "      <td>...</td>\n",
       "      <td>...</td>\n",
       "      <td>...</td>\n",
       "      <td>...</td>\n",
       "      <td>...</td>\n",
       "      <td>...</td>\n",
       "      <td>...</td>\n",
       "      <td>...</td>\n",
       "      <td>...</td>\n",
       "      <td>...</td>\n",
       "      <td>...</td>\n",
       "      <td>...</td>\n",
       "      <td>...</td>\n",
       "      <td>...</td>\n",
       "      <td>...</td>\n",
       "      <td>...</td>\n",
       "      <td>...</td>\n",
       "      <td>...</td>\n",
       "      <td>...</td>\n",
       "      <td>...</td>\n",
       "    </tr>\n",
       "    <tr>\n",
       "      <th>594</th>\n",
       "      <td>178</td>\n",
       "      <td>1521</td>\n",
       "      <td>7589.79</td>\n",
       "      <td>0</td>\n",
       "      <td>YES</td>\n",
       "      <td>0</td>\n",
       "      <td>0</td>\n",
       "      <td>0</td>\n",
       "      <td>0</td>\n",
       "      <td>0</td>\n",
       "      <td>...</td>\n",
       "      <td>0</td>\n",
       "      <td>0</td>\n",
       "      <td>0</td>\n",
       "      <td>0</td>\n",
       "      <td>0</td>\n",
       "      <td>0</td>\n",
       "      <td>0</td>\n",
       "      <td>0</td>\n",
       "      <td>0</td>\n",
       "      <td>1</td>\n",
       "    </tr>\n",
       "    <tr>\n",
       "      <th>595</th>\n",
       "      <td>137</td>\n",
       "      <td>1521</td>\n",
       "      <td>7589.79</td>\n",
       "      <td>39</td>\n",
       "      <td>YES</td>\n",
       "      <td>0</td>\n",
       "      <td>0</td>\n",
       "      <td>0</td>\n",
       "      <td>0</td>\n",
       "      <td>0</td>\n",
       "      <td>...</td>\n",
       "      <td>0</td>\n",
       "      <td>0</td>\n",
       "      <td>0</td>\n",
       "      <td>1</td>\n",
       "      <td>0</td>\n",
       "      <td>0</td>\n",
       "      <td>0</td>\n",
       "      <td>0</td>\n",
       "      <td>0</td>\n",
       "      <td>0</td>\n",
       "    </tr>\n",
       "    <tr>\n",
       "      <th>596</th>\n",
       "      <td>144</td>\n",
       "      <td>1764</td>\n",
       "      <td>8214.36</td>\n",
       "      <td>84</td>\n",
       "      <td>YES</td>\n",
       "      <td>0</td>\n",
       "      <td>0</td>\n",
       "      <td>0</td>\n",
       "      <td>0</td>\n",
       "      <td>0</td>\n",
       "      <td>...</td>\n",
       "      <td>1</td>\n",
       "      <td>0</td>\n",
       "      <td>0</td>\n",
       "      <td>0</td>\n",
       "      <td>0</td>\n",
       "      <td>0</td>\n",
       "      <td>0</td>\n",
       "      <td>0</td>\n",
       "      <td>0</td>\n",
       "      <td>0</td>\n",
       "    </tr>\n",
       "    <tr>\n",
       "      <th>597</th>\n",
       "      <td>148</td>\n",
       "      <td>2116</td>\n",
       "      <td>9960.84</td>\n",
       "      <td>46</td>\n",
       "      <td>YES</td>\n",
       "      <td>0</td>\n",
       "      <td>0</td>\n",
       "      <td>0</td>\n",
       "      <td>0</td>\n",
       "      <td>0</td>\n",
       "      <td>...</td>\n",
       "      <td>0</td>\n",
       "      <td>0</td>\n",
       "      <td>0</td>\n",
       "      <td>0</td>\n",
       "      <td>0</td>\n",
       "      <td>0</td>\n",
       "      <td>0</td>\n",
       "      <td>1</td>\n",
       "      <td>0</td>\n",
       "      <td>0</td>\n",
       "    </tr>\n",
       "    <tr>\n",
       "      <th>598</th>\n",
       "      <td>526</td>\n",
       "      <td>2025</td>\n",
       "      <td>9969.75</td>\n",
       "      <td>135</td>\n",
       "      <td>YES</td>\n",
       "      <td>0</td>\n",
       "      <td>1</td>\n",
       "      <td>0</td>\n",
       "      <td>0</td>\n",
       "      <td>0</td>\n",
       "      <td>...</td>\n",
       "      <td>0</td>\n",
       "      <td>0</td>\n",
       "      <td>0</td>\n",
       "      <td>0</td>\n",
       "      <td>0</td>\n",
       "      <td>0</td>\n",
       "      <td>0</td>\n",
       "      <td>0</td>\n",
       "      <td>0</td>\n",
       "      <td>0</td>\n",
       "    </tr>\n",
       "  </tbody>\n",
       "</table>\n",
       "<p>599 rows × 21 columns</p>\n",
       "</div>"
      ],
      "text/plain": [
       "     customer_id  number_of_films_rented  total_money_spent  \\\n",
       "0            318                     144             634.56   \n",
       "1            281                     196             712.04   \n",
       "2            248                     225             762.75   \n",
       "3             61                     196             824.04   \n",
       "4            110                     196             838.04   \n",
       "..           ...                     ...                ...   \n",
       "594          178                    1521            7589.79   \n",
       "595          137                    1521            7589.79   \n",
       "596          144                    1764            8214.36   \n",
       "597          148                    2116            9960.84   \n",
       "598          526                    2025            9969.75   \n",
       "\n",
       "     films_rented_may_2005 question  category_Action  category_Animation  \\\n",
       "0                       12      YES                0                   0   \n",
       "1                       28      YES                0                   0   \n",
       "2                       30      YES                0                   0   \n",
       "3                       14       NO                0                   0   \n",
       "4                       28      YES                0                   0   \n",
       "..                     ...      ...              ...                 ...   \n",
       "594                      0      YES                0                   0   \n",
       "595                     39      YES                0                   0   \n",
       "596                     84      YES                0                   0   \n",
       "597                     46      YES                0                   0   \n",
       "598                    135      YES                0                   1   \n",
       "\n",
       "     category_Children  category_Classics  category_Comedy  ...  \\\n",
       "0                    0                  0                0  ...   \n",
       "1                    0                  0                0  ...   \n",
       "2                    0                  0                0  ...   \n",
       "3                    0                  0                0  ...   \n",
       "4                    0                  0                0  ...   \n",
       "..                 ...                ...              ...  ...   \n",
       "594                  0                  0                0  ...   \n",
       "595                  0                  0                0  ...   \n",
       "596                  0                  0                0  ...   \n",
       "597                  0                  0                0  ...   \n",
       "598                  0                  0                0  ...   \n",
       "\n",
       "     category_Drama  category_Family  category_Foreign  category_Games  \\\n",
       "0                 0                0                 0               0   \n",
       "1                 0                1                 0               0   \n",
       "2                 0                0                 0               0   \n",
       "3                 1                0                 0               0   \n",
       "4                 1                0                 0               0   \n",
       "..              ...              ...               ...             ...   \n",
       "594               0                0                 0               0   \n",
       "595               0                0                 0               1   \n",
       "596               1                0                 0               0   \n",
       "597               0                0                 0               0   \n",
       "598               0                0                 0               0   \n",
       "\n",
       "     category_Horror  category_Music  category_New  category_Sci-Fi  \\\n",
       "0                  0               0             0                0   \n",
       "1                  0               0             0                0   \n",
       "2                  0               0             0                1   \n",
       "3                  0               0             0                0   \n",
       "4                  0               0             0                0   \n",
       "..               ...             ...           ...              ...   \n",
       "594                0               0             0                0   \n",
       "595                0               0             0                0   \n",
       "596                0               0             0                0   \n",
       "597                0               0             0                1   \n",
       "598                0               0             0                0   \n",
       "\n",
       "     category_Sports  category_Travel  \n",
       "0                  0                0  \n",
       "1                  0                0  \n",
       "2                  0                0  \n",
       "3                  0                0  \n",
       "4                  0                0  \n",
       "..               ...              ...  \n",
       "594                0                1  \n",
       "595                0                0  \n",
       "596                0                0  \n",
       "597                0                0  \n",
       "598                0                0  \n",
       "\n",
       "[599 rows x 21 columns]"
      ]
     },
     "execution_count": 27,
     "metadata": {},
     "output_type": "execute_result"
    }
   ],
   "source": [
    "data2 = data1=pd.get_dummies(data1,columns=['category'])\n",
    "data2"
   ]
  },
  {
   "cell_type": "code",
   "execution_count": 28,
   "metadata": {
    "scrolled": true
   },
   "outputs": [
    {
     "data": {
      "text/plain": [
       "YES    590\n",
       "NO     590\n",
       "Name: question, dtype: int64"
      ]
     },
     "execution_count": 28,
     "metadata": {},
     "output_type": "execute_result"
    }
   ],
   "source": [
    "# SMOTE - we use an upsampling method as the data base is too small and we do not want to lose too much info.\n",
    "\n",
    "from imblearn.over_sampling import SMOTE\n",
    "\n",
    "smote = SMOTE()\n",
    "\n",
    "X = data2.drop('question', axis=1)\n",
    "y = data2['question']\n",
    "\n",
    "X,y = smote.fit_resample(X, y)\n",
    "y.value_counts()"
   ]
  },
  {
   "cell_type": "markdown",
   "metadata": {},
   "source": [
    "# Running the model"
   ]
  },
  {
   "cell_type": "code",
   "execution_count": 29,
   "metadata": {
    "scrolled": true
   },
   "outputs": [],
   "source": [
    "# Train / Test split\n",
    "\n",
    "from sklearn.model_selection import train_test_split\n",
    "\n",
    "X_train, X_test, y_train, y_test = train_test_split(X, y, test_size=0.2, random_state=42)"
   ]
  },
  {
   "cell_type": "code",
   "execution_count": 30,
   "metadata": {},
   "outputs": [
    {
     "data": {
      "text/plain": [
       "LogisticRegression(max_iter=10000, random_state=42)"
      ]
     },
     "execution_count": 30,
     "metadata": {},
     "output_type": "execute_result"
    }
   ],
   "source": [
    "# We train the model\n",
    "\n",
    "from sklearn.linear_model import LogisticRegression\n",
    "\n",
    "classification = LogisticRegression(random_state=42, max_iter=10000)\n",
    "classification.fit(X_train, y_train)"
   ]
  },
  {
   "cell_type": "markdown",
   "metadata": {},
   "source": [
    "# Evaluating the model"
   ]
  },
  {
   "cell_type": "code",
   "execution_count": 31,
   "metadata": {},
   "outputs": [
    {
     "data": {
      "text/plain": [
       "0.961864406779661"
      ]
     },
     "execution_count": 31,
     "metadata": {},
     "output_type": "execute_result"
    }
   ],
   "source": [
    "classification.score(X_test, y_test)"
   ]
  },
  {
   "cell_type": "code",
   "execution_count": 32,
   "metadata": {},
   "outputs": [
    {
     "data": {
      "image/png": "[encoded data removed]",
      "text/plain": [
       "<Figure size 432x288 with 2 Axes>"
      ]
     },
     "metadata": {
      "needs_background": "light"
     },
     "output_type": "display_data"
    }
   ],
   "source": [
    "from sklearn.metrics import plot_confusion_matrix\n",
    "\n",
    "plot_confusion_matrix(classification, X_test, y_test, cmap='Blues')\n",
    "plt.show()"
   ]
  },
  {
   "cell_type": "code",
   "execution_count": 33,
   "metadata": {},
   "outputs": [
    {
     "name": "stdout",
     "output_type": "stream",
     "text": [
      "              precision    recall  f1-score   support\n",
      "\n",
      "          NO       0.94      0.99      0.96       118\n",
      "         YES       0.99      0.93      0.96       118\n",
      "\n",
      "    accuracy                           0.96       236\n",
      "   macro avg       0.96      0.96      0.96       236\n",
      "weighted avg       0.96      0.96      0.96       236\n",
      "\n"
     ]
    }
   ],
   "source": [
    "from sklearn import metrics\n",
    "\n",
    "predictions = classification.predict(X_test)\n",
    "print(metrics.classification_report(y_test, predictions))"
   ]
  }
 ],
 "metadata": {
  "kernelspec": {
   "display_name": "Python 3",
   "language": "python",
   "name": "python3"
  },
  "language_info": {
   "codemirror_mode": {
    "name": "ipython",
    "version": 3
   },
   "file_extension": ".py",
   "mimetype": "text/x-python",
   "name": "python",
   "nbconvert_exporter": "python",
   "pygments_lexer": "ipython3",
   "version": "3.8.5"
  }
 },
 "nbformat": 4,
 "nbformat_minor": 4
}
