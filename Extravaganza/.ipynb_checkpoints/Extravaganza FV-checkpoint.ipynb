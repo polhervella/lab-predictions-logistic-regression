{
 "cells": [
  {
   "cell_type": "markdown",
   "metadata": {},
   "source": [
    "# EXTRAVAGANZA ML LAB"
   ]
  },
  {
   "cell_type": "markdown",
   "metadata": {},
   "source": [
    "## Intro & objective"
   ]
  },
  {
   "cell_type": "markdown",
   "metadata": {},
   "source": [
    "- Our client, Blockbuster Video, has asked us to **predict whether a customer will be renting a film this month** based on their previous activity and other details.\n",
    "- They have given access to their relational database for us to extract key data and perform our analysis"
   ]
  },
  {
   "cell_type": "markdown",
   "metadata": {},
   "source": [
    "## Our process"
   ]
  },
  {
   "cell_type": "markdown",
   "metadata": {},
   "source": [
    "In order to come up with our predictions we will follow the following process:\n",
    "\n",
    "1. Extracting key data from de SQL database, resulting in a table containing the following info (which we consider to be crucial to make our predictions:\n",
    "\n",
    "    - Customer ID\n",
    "    - City\n",
    "    -Most rented film category\n",
    "    -Total films rented\n",
    "    -Total money spent\n",
    "    -How many films rented last month (MAY/2005)\n",
    "    -If the customer rented a movie this month (JUNE/2005) \n",
    "    \n",
    "\n",
    "2. Data Cleaning\n",
    "3. EDA\n",
    "4. Feature Scaling\n",
    "5. Dealing with data imbalance\n",
    "6. Running the model\n",
    "7. Evaluating the results\n",
    "8. Conclusions & key takeaways"
   ]
  },
  {
   "cell_type": "markdown",
   "metadata": {},
   "source": [
    "# 1. Importing data from SQL database"
   ]
  },
  {
   "cell_type": "code",
   "execution_count": 1,
   "metadata": {},
   "outputs": [
    {
     "name": "stdout",
     "output_type": "stream",
     "text": [
      "········\n"
     ]
    }
   ],
   "source": [
    "import pymysql\n",
    "from sqlalchemy import create_engine\n",
    "import pandas as pd\n",
    "import getpass  # to get the password without showing the input\n",
    "password = getpass.getpass()"
   ]
  },
  {
   "cell_type": "code",
   "execution_count": 2,
   "metadata": {},
   "outputs": [],
   "source": [
    "connection_string = 'mysql+pymysql://root:' + password + '@localhost/sakila'\n",
    "engine = create_engine(connection_string)"
   ]
  },
  {
   "cell_type": "code",
   "execution_count": 3,
   "metadata": {
    "scrolled": true
   },
   "outputs": [
    {
     "data": {
      "text/html": [
       "<div>\n",
       "<style scoped>\n",
       "    .dataframe tbody tr th:only-of-type {\n",
       "        vertical-align: middle;\n",
       "    }\n",
       "\n",
       "    .dataframe tbody tr th {\n",
       "        vertical-align: top;\n",
       "    }\n",
       "\n",
       "    .dataframe thead th {\n",
       "        text-align: right;\n",
       "    }\n",
       "</style>\n",
       "<table border=\"1\" class=\"dataframe\">\n",
       "  <thead>\n",
       "    <tr style=\"text-align: right;\">\n",
       "      <th></th>\n",
       "      <th>customer_id</th>\n",
       "      <th>city</th>\n",
       "      <th>category</th>\n",
       "      <th>number_of_films_rented</th>\n",
       "      <th>total_money_spent</th>\n",
       "      <th>films_rented_may_2005</th>\n",
       "      <th>question</th>\n",
       "    </tr>\n",
       "  </thead>\n",
       "  <tbody>\n",
       "    <tr>\n",
       "      <th>0</th>\n",
       "      <td>1</td>\n",
       "      <td>Sasebo</td>\n",
       "      <td>Classics</td>\n",
       "      <td>1024</td>\n",
       "      <td>3797.76</td>\n",
       "      <td>64.0</td>\n",
       "      <td>YES</td>\n",
       "    </tr>\n",
       "    <tr>\n",
       "      <th>1</th>\n",
       "      <td>2</td>\n",
       "      <td>San Bernardino</td>\n",
       "      <td>Sports</td>\n",
       "      <td>729</td>\n",
       "      <td>3475.71</td>\n",
       "      <td>27.0</td>\n",
       "      <td>YES</td>\n",
       "    </tr>\n",
       "    <tr>\n",
       "      <th>2</th>\n",
       "      <td>3</td>\n",
       "      <td>Athenai</td>\n",
       "      <td>Action</td>\n",
       "      <td>676</td>\n",
       "      <td>3529.24</td>\n",
       "      <td>52.0</td>\n",
       "      <td>YES</td>\n",
       "    </tr>\n",
       "    <tr>\n",
       "      <th>3</th>\n",
       "      <td>4</td>\n",
       "      <td>Myingyan</td>\n",
       "      <td>Horror</td>\n",
       "      <td>484</td>\n",
       "      <td>1799.16</td>\n",
       "      <td>NaN</td>\n",
       "      <td>YES</td>\n",
       "    </tr>\n",
       "    <tr>\n",
       "      <th>4</th>\n",
       "      <td>5</td>\n",
       "      <td>Nantou</td>\n",
       "      <td>Classics</td>\n",
       "      <td>1444</td>\n",
       "      <td>5495.56</td>\n",
       "      <td>114.0</td>\n",
       "      <td>YES</td>\n",
       "    </tr>\n",
       "    <tr>\n",
       "      <th>...</th>\n",
       "      <td>...</td>\n",
       "      <td>...</td>\n",
       "      <td>...</td>\n",
       "      <td>...</td>\n",
       "      <td>...</td>\n",
       "      <td>...</td>\n",
       "      <td>...</td>\n",
       "    </tr>\n",
       "    <tr>\n",
       "      <th>594</th>\n",
       "      <td>595</td>\n",
       "      <td>Jinzhou</td>\n",
       "      <td>Documentary</td>\n",
       "      <td>900</td>\n",
       "      <td>3531.00</td>\n",
       "      <td>30.0</td>\n",
       "      <td>YES</td>\n",
       "    </tr>\n",
       "    <tr>\n",
       "      <th>595</th>\n",
       "      <td>596</td>\n",
       "      <td>Patras</td>\n",
       "      <td>Sports</td>\n",
       "      <td>784</td>\n",
       "      <td>2708.16</td>\n",
       "      <td>168.0</td>\n",
       "      <td>YES</td>\n",
       "    </tr>\n",
       "    <tr>\n",
       "      <th>596</th>\n",
       "      <td>597</td>\n",
       "      <td>Sullana</td>\n",
       "      <td>Foreign</td>\n",
       "      <td>625</td>\n",
       "      <td>2493.75</td>\n",
       "      <td>50.0</td>\n",
       "      <td>YES</td>\n",
       "    </tr>\n",
       "    <tr>\n",
       "      <th>597</th>\n",
       "      <td>598</td>\n",
       "      <td>Lausanne</td>\n",
       "      <td>Drama</td>\n",
       "      <td>484</td>\n",
       "      <td>1843.16</td>\n",
       "      <td>NaN</td>\n",
       "      <td>YES</td>\n",
       "    </tr>\n",
       "    <tr>\n",
       "      <th>598</th>\n",
       "      <td>599</td>\n",
       "      <td>Tieli</td>\n",
       "      <td>Sci-Fi</td>\n",
       "      <td>361</td>\n",
       "      <td>1592.39</td>\n",
       "      <td>19.0</td>\n",
       "      <td>YES</td>\n",
       "    </tr>\n",
       "  </tbody>\n",
       "</table>\n",
       "<p>599 rows × 7 columns</p>\n",
       "</div>"
      ],
      "text/plain": [
       "     customer_id            city     category  number_of_films_rented  \\\n",
       "0              1          Sasebo     Classics                    1024   \n",
       "1              2  San Bernardino       Sports                     729   \n",
       "2              3         Athenai       Action                     676   \n",
       "3              4        Myingyan       Horror                     484   \n",
       "4              5          Nantou     Classics                    1444   \n",
       "..           ...             ...          ...                     ...   \n",
       "594          595         Jinzhou  Documentary                     900   \n",
       "595          596          Patras       Sports                     784   \n",
       "596          597         Sullana      Foreign                     625   \n",
       "597          598        Lausanne        Drama                     484   \n",
       "598          599           Tieli       Sci-Fi                     361   \n",
       "\n",
       "     total_money_spent  films_rented_may_2005 question  \n",
       "0              3797.76                   64.0      YES  \n",
       "1              3475.71                   27.0      YES  \n",
       "2              3529.24                   52.0      YES  \n",
       "3              1799.16                    NaN      YES  \n",
       "4              5495.56                  114.0      YES  \n",
       "..                 ...                    ...      ...  \n",
       "594            3531.00                   30.0      YES  \n",
       "595            2708.16                  168.0      YES  \n",
       "596            2493.75                   50.0      YES  \n",
       "597            1843.16                    NaN      YES  \n",
       "598            1592.39                   19.0      YES  \n",
       "\n",
       "[599 rows x 7 columns]"
      ]
     },
     "execution_count": 3,
     "metadata": {},
     "output_type": "execute_result"
    }
   ],
   "source": [
    "data1 = pd.read_sql_query('SELECT table_query1.customer_id, city, category, number_of_films_rented, total_money_spent, films_rented_may_2005, question FROM query1 as table_query1 LEFT JOIN query2 as table_query2 on table_query1.customer_id = table_query2.customer_id LEFT JOIN query3 as table_query3 on table_query2.customer_id = table_query3.customer_id LEFT JOIN query4 as table_query4 on table_query1.customer_id = table_query4.customer_id LEFT JOIN query5 as table_query5 on table_query1.customer_id = table_query5.customer_id LEFT JOIN sakila.customer as customer_table on table_query1.customer_id = customer_table.customer_id LEFT JOIN sakila.address as address_table on customer_table.address_id = address_table.address_id LEFT JOIN sakila.city as city_table on address_table.city_id = city_table.city_id;', engine)\n",
    "data1"
   ]
  },
  {
   "cell_type": "markdown",
   "metadata": {},
   "source": [
    "# 2. Data cleaning"
   ]
  },
  {
   "cell_type": "code",
   "execution_count": 4,
   "metadata": {},
   "outputs": [],
   "source": [
    "# Setting customer_id as index\n",
    "\n",
    "data1 = data1.set_index('customer_id')"
   ]
  },
  {
   "cell_type": "code",
   "execution_count": 5,
   "metadata": {},
   "outputs": [
    {
     "data": {
      "text/plain": [
       "city                       0\n",
       "category                   0\n",
       "number_of_films_rented     0\n",
       "total_money_spent          0\n",
       "films_rented_may_2005     79\n",
       "question                   9\n",
       "dtype: int64"
      ]
     },
     "execution_count": 5,
     "metadata": {},
     "output_type": "execute_result"
    }
   ],
   "source": [
    "# Checking for nulls\n",
    "\n",
    "data1.isna().sum()"
   ]
  },
  {
   "cell_type": "code",
   "execution_count": 6,
   "metadata": {},
   "outputs": [],
   "source": [
    "# Filling nulls\n",
    "\n",
    "data1[\"question\"].fillna(\"NO\", inplace = True) "
   ]
  },
  {
   "cell_type": "code",
   "execution_count": 7,
   "metadata": {},
   "outputs": [],
   "source": [
    "data1[\"films_rented_may_2005\"].fillna(0, inplace = True) "
   ]
  },
  {
   "cell_type": "code",
   "execution_count": 8,
   "metadata": {},
   "outputs": [
    {
     "data": {
      "text/plain": [
       "city                      0\n",
       "category                  0\n",
       "number_of_films_rented    0\n",
       "total_money_spent         0\n",
       "films_rented_may_2005     0\n",
       "question                  0\n",
       "dtype: int64"
      ]
     },
     "execution_count": 8,
     "metadata": {},
     "output_type": "execute_result"
    }
   ],
   "source": [
    "# Making sure that I do not have any more nulls\n",
    "\n",
    "data1.isna().sum()"
   ]
  },
  {
   "cell_type": "code",
   "execution_count": 9,
   "metadata": {},
   "outputs": [
    {
     "data": {
      "text/plain": [
       "city                       object\n",
       "category                   object\n",
       "number_of_films_rented      int64\n",
       "total_money_spent         float64\n",
       "films_rented_may_2005     float64\n",
       "question                   object\n",
       "dtype: object"
      ]
     },
     "execution_count": 9,
     "metadata": {},
     "output_type": "execute_result"
    }
   ],
   "source": [
    "data1.dtypes"
   ]
  },
  {
   "cell_type": "code",
   "execution_count": 10,
   "metadata": {},
   "outputs": [],
   "source": [
    "# Changing films_rented_may_2005 data type to integer. \n",
    "\n",
    "data1[\"films_rented_may_2005\"] = data1[\"films_rented_may_2005\"].apply(lambda x: int((float(x))))"
   ]
  },
  {
   "cell_type": "code",
   "execution_count": 11,
   "metadata": {
    "scrolled": false
   },
   "outputs": [
    {
     "data": {
      "text/plain": [
       "city                       object\n",
       "category                   object\n",
       "number_of_films_rented      int64\n",
       "total_money_spent         float64\n",
       "films_rented_may_2005       int64\n",
       "question                   object\n",
       "dtype: object"
      ]
     },
     "execution_count": 11,
     "metadata": {},
     "output_type": "execute_result"
    }
   ],
   "source": [
    "data1.dtypes"
   ]
  },
  {
   "cell_type": "code",
   "execution_count": 12,
   "metadata": {},
   "outputs": [],
   "source": [
    "import numpy as np"
   ]
  },
  {
   "cell_type": "code",
   "execution_count": 13,
   "metadata": {},
   "outputs": [],
   "source": [
    "# Separating numerical & categorical values\n",
    "\n",
    "data_num = data1.select_dtypes(np.number)\n",
    "data_cat = data1.select_dtypes(np.object)"
   ]
  },
  {
   "cell_type": "code",
   "execution_count": 14,
   "metadata": {
    "scrolled": true
   },
   "outputs": [
    {
     "name": "stdout",
     "output_type": "stream",
     "text": [
      "London         2\n",
      "Aurora         2\n",
      "Baha Blanca    1\n",
      "Wroclaw        1\n",
      "Faaa           1\n",
      "              ..\n",
      "Abha           1\n",
      "Boksburg       1\n",
      "Jos Azueta     1\n",
      "So Leopoldo    1\n",
      "Niznekamsk     1\n",
      "Name: city, Length: 597, dtype: int64 \n",
      "\n",
      "Sports         62\n",
      "Sci-Fi         59\n",
      "Animation      57\n",
      "Documentary    49\n",
      "Action         43\n",
      "Family         39\n",
      "Foreign        39\n",
      "New            39\n",
      "Drama          36\n",
      "Games          33\n",
      "Classics       31\n",
      "Comedy         23\n",
      "Travel         23\n",
      "Children       23\n",
      "Horror         22\n",
      "Music          21\n",
      "Name: category, dtype: int64 \n",
      "\n",
      "YES    590\n",
      "NO       9\n",
      "Name: question, dtype: int64 \n",
      "\n"
     ]
    }
   ],
   "source": [
    "for col in data1.select_dtypes('object'):\n",
    "    print(data1[col].value_counts(), '\\n')"
   ]
  },
  {
   "cell_type": "markdown",
   "metadata": {},
   "source": [
    "# 3. EDA"
   ]
  },
  {
   "cell_type": "code",
   "execution_count": 15,
   "metadata": {},
   "outputs": [],
   "source": [
    "import matplotlib.pyplot as plt\n",
    "import seaborn as sns\n",
    "import scipy.stats as stats"
   ]
  },
  {
   "cell_type": "code",
   "execution_count": 16,
   "metadata": {},
   "outputs": [
    {
     "name": "stdout",
     "output_type": "stream",
     "text": [
      "Customers rented an average of 53.28714524207012 films last month\n"
     ]
    },
    {
     "data": {
      "text/plain": [
       "<AxesSubplot:>"
      ]
     },
     "execution_count": 16,
     "metadata": {},
     "output_type": "execute_result"
    },
    {
     "data": {
      "image/png": "[encoded data removed]",
      "text/plain": [
       "<Figure size 432x288 with 1 Axes>"
      ]
     },
     "metadata": {},
     "output_type": "display_data"
    }
   ],
   "source": [
    "films_rented_may_2005 = data1['films_rented_may_2005'].mean()\n",
    "print(\"Customers rented an average of\",films_rented_may_2005,\"films last month\")\n",
    "\n",
    "sns.set()\n",
    "data1['films_rented_may_2005'].hist(bins = 15)"
   ]
  },
  {
   "cell_type": "code",
   "execution_count": 17,
   "metadata": {
    "scrolled": false
   },
   "outputs": [
    {
     "name": "stdout",
     "output_type": "stream",
     "text": [
      "Surprisingly, the most rented category was Sports, followed by Sci-Fi & Animation\n"
     ]
    },
    {
     "data": {
      "text/plain": [
       "<AxesSubplot:>"
      ]
     },
     "execution_count": 17,
     "metadata": {},
     "output_type": "execute_result"
    },
    {
     "data": {
      "image/png": "[encoded data removed]",
      "text/plain": [
       "<Figure size 432x288 with 1 Axes>"
      ]
     },
     "metadata": {},
     "output_type": "display_data"
    }
   ],
   "source": [
    "# In the following graph we can see which are the most rented categories overall\n",
    "\n",
    "print(\"Surprisingly, the most rented category was Sports, followed by Sci-Fi & Animation\")\n",
    "data1['category'].value_counts().head(10).plot.bar()"
   ]
  },
  {
   "cell_type": "code",
   "execution_count": 18,
   "metadata": {
    "scrolled": true
   },
   "outputs": [
    {
     "data": {
      "image/png": "[encoded data removed]",
      "text/plain": [
       "<Figure size 1008x720 with 1 Axes>"
      ]
     },
     "metadata": {},
     "output_type": "display_data"
    }
   ],
   "source": [
    "# Here we can see the relation between the variables 'category' & 'total money spent', given the results we can assume that the films will most likely have the same price despite its category, as the graph resembles the previous one...\n",
    "\n",
    "plt.figure(figsize=(14, 10))\n",
    "\n",
    "# Reorder this data frame - this doesn't work :S...\n",
    "\n",
    "data1 = data1.sort_values('total_money_spent').reset_index()\n",
    "\n",
    "sns.barplot(\n",
    "    x=\"total_money_spent\", \n",
    "    y=\"category\", \n",
    "    data=data1, \n",
    "    estimator=sum, \n",
    "    ci=None, \n",
    "    color='#69b3a2'\n",
    ");"
   ]
  },
  {
   "cell_type": "code",
   "execution_count": 19,
   "metadata": {},
   "outputs": [],
   "source": [
    "import warnings\n",
    "warnings.filterwarnings('ignore')"
   ]
  },
  {
   "cell_type": "code",
   "execution_count": 20,
   "metadata": {},
   "outputs": [
    {
     "data": {
      "text/plain": [
       "<AxesSubplot:xlabel='customer_id', ylabel='number_of_films_rented'>"
      ]
     },
     "execution_count": 20,
     "metadata": {},
     "output_type": "execute_result"
    },
    {
     "data": {
      "image/png": "[encoded data removed]",
      "text/plain": [
       "<Figure size 1008x504 with 1 Axes>"
      ]
     },
     "metadata": {},
     "output_type": "display_data"
    }
   ],
   "source": [
    "# Top 10 customers (which rented the most number of films overall)\n",
    "\n",
    "top_rented = data1.sort_values(by=[\"number_of_films_rented\"], ascending=False)\n",
    "top_rented.head(10)\n",
    "\n",
    "plt.figure(figsize=(14, 7))\n",
    "sns.barplot(top_rented['customer_id'].head(10), top_rented['number_of_films_rented'].head(10))"
   ]
  },
  {
   "cell_type": "code",
   "execution_count": 21,
   "metadata": {
    "scrolled": true
   },
   "outputs": [
    {
     "name": "stdout",
     "output_type": "stream",
     "text": [
      "Almost all the customers rented a movie last month\n"
     ]
    },
    {
     "data": {
      "text/plain": [
       "<AxesSubplot:>"
      ]
     },
     "execution_count": 21,
     "metadata": {},
     "output_type": "execute_result"
    },
    {
     "data": {
      "image/png": "[encoded data removed]",
      "text/plain": [
       "<Figure size 432x288 with 1 Axes>"
      ]
     },
     "metadata": {},
     "output_type": "display_data"
    }
   ],
   "source": [
    "# In the following graph we can see how many customers rented a film last month...\n",
    "\n",
    "print(\"Almost all the customers rented a movie last month\")\n",
    "data1['question'].value_counts().head(10).plot.bar()"
   ]
  },
  {
   "cell_type": "code",
   "execution_count": 22,
   "metadata": {
    "scrolled": true
   },
   "outputs": [
    {
     "data": {
      "text/html": [
       "<div>\n",
       "<style scoped>\n",
       "    .dataframe tbody tr th:only-of-type {\n",
       "        vertical-align: middle;\n",
       "    }\n",
       "\n",
       "    .dataframe tbody tr th {\n",
       "        vertical-align: top;\n",
       "    }\n",
       "\n",
       "    .dataframe thead th {\n",
       "        text-align: right;\n",
       "    }\n",
       "</style>\n",
       "<table border=\"1\" class=\"dataframe\">\n",
       "  <thead>\n",
       "    <tr style=\"text-align: right;\">\n",
       "      <th></th>\n",
       "      <th>customer_id</th>\n",
       "      <th>number_of_films_rented</th>\n",
       "      <th>total_money_spent</th>\n",
       "      <th>films_rented_may_2005</th>\n",
       "    </tr>\n",
       "  </thead>\n",
       "  <tbody>\n",
       "    <tr>\n",
       "      <th>count</th>\n",
       "      <td>599.000000</td>\n",
       "      <td>599.000000</td>\n",
       "      <td>599.000000</td>\n",
       "      <td>599.000000</td>\n",
       "    </tr>\n",
       "    <tr>\n",
       "      <th>mean</th>\n",
       "      <td>300.000000</td>\n",
       "      <td>743.831386</td>\n",
       "      <td>3127.713606</td>\n",
       "      <td>53.287145</td>\n",
       "    </tr>\n",
       "    <tr>\n",
       "      <th>std</th>\n",
       "      <td>173.060683</td>\n",
       "      <td>283.229813</td>\n",
       "      <td>1274.733932</td>\n",
       "      <td>43.397876</td>\n",
       "    </tr>\n",
       "    <tr>\n",
       "      <th>min</th>\n",
       "      <td>1.000000</td>\n",
       "      <td>144.000000</td>\n",
       "      <td>634.560000</td>\n",
       "      <td>0.000000</td>\n",
       "    </tr>\n",
       "    <tr>\n",
       "      <th>25%</th>\n",
       "      <td>150.500000</td>\n",
       "      <td>529.000000</td>\n",
       "      <td>2232.700000</td>\n",
       "      <td>25.000000</td>\n",
       "    </tr>\n",
       "    <tr>\n",
       "      <th>50%</th>\n",
       "      <td>300.000000</td>\n",
       "      <td>676.000000</td>\n",
       "      <td>2943.750000</td>\n",
       "      <td>46.000000</td>\n",
       "    </tr>\n",
       "    <tr>\n",
       "      <th>75%</th>\n",
       "      <td>449.500000</td>\n",
       "      <td>900.000000</td>\n",
       "      <td>3800.580000</td>\n",
       "      <td>70.000000</td>\n",
       "    </tr>\n",
       "    <tr>\n",
       "      <th>max</th>\n",
       "      <td>599.000000</td>\n",
       "      <td>2116.000000</td>\n",
       "      <td>9969.750000</td>\n",
       "      <td>320.000000</td>\n",
       "    </tr>\n",
       "  </tbody>\n",
       "</table>\n",
       "</div>"
      ],
      "text/plain": [
       "       customer_id  number_of_films_rented  total_money_spent  \\\n",
       "count   599.000000              599.000000         599.000000   \n",
       "mean    300.000000              743.831386        3127.713606   \n",
       "std     173.060683              283.229813        1274.733932   \n",
       "min       1.000000              144.000000         634.560000   \n",
       "25%     150.500000              529.000000        2232.700000   \n",
       "50%     300.000000              676.000000        2943.750000   \n",
       "75%     449.500000              900.000000        3800.580000   \n",
       "max     599.000000             2116.000000        9969.750000   \n",
       "\n",
       "       films_rented_may_2005  \n",
       "count             599.000000  \n",
       "mean               53.287145  \n",
       "std                43.397876  \n",
       "min                 0.000000  \n",
       "25%                25.000000  \n",
       "50%                46.000000  \n",
       "75%                70.000000  \n",
       "max               320.000000  "
      ]
     },
     "execution_count": 22,
     "metadata": {},
     "output_type": "execute_result"
    }
   ],
   "source": [
    "data1.describe()"
   ]
  },
  {
   "cell_type": "code",
   "execution_count": 23,
   "metadata": {
    "scrolled": true
   },
   "outputs": [
    {
     "data": {
      "text/html": [
       "<div>\n",
       "<style scoped>\n",
       "    .dataframe tbody tr th:only-of-type {\n",
       "        vertical-align: middle;\n",
       "    }\n",
       "\n",
       "    .dataframe tbody tr th {\n",
       "        vertical-align: top;\n",
       "    }\n",
       "\n",
       "    .dataframe thead th {\n",
       "        text-align: right;\n",
       "    }\n",
       "</style>\n",
       "<table border=\"1\" class=\"dataframe\">\n",
       "  <thead>\n",
       "    <tr style=\"text-align: right;\">\n",
       "      <th></th>\n",
       "      <th>customer_id</th>\n",
       "      <th>number_of_films_rented</th>\n",
       "      <th>total_money_spent</th>\n",
       "      <th>films_rented_may_2005</th>\n",
       "    </tr>\n",
       "  </thead>\n",
       "  <tbody>\n",
       "    <tr>\n",
       "      <th>customer_id</th>\n",
       "      <td>1.000000</td>\n",
       "      <td>-0.093056</td>\n",
       "      <td>-0.067675</td>\n",
       "      <td>-0.076816</td>\n",
       "    </tr>\n",
       "    <tr>\n",
       "      <th>number_of_films_rented</th>\n",
       "      <td>-0.093056</td>\n",
       "      <td>1.000000</td>\n",
       "      <td>0.957159</td>\n",
       "      <td>0.424372</td>\n",
       "    </tr>\n",
       "    <tr>\n",
       "      <th>total_money_spent</th>\n",
       "      <td>-0.067675</td>\n",
       "      <td>0.957159</td>\n",
       "      <td>1.000000</td>\n",
       "      <td>0.411350</td>\n",
       "    </tr>\n",
       "    <tr>\n",
       "      <th>films_rented_may_2005</th>\n",
       "      <td>-0.076816</td>\n",
       "      <td>0.424372</td>\n",
       "      <td>0.411350</td>\n",
       "      <td>1.000000</td>\n",
       "    </tr>\n",
       "  </tbody>\n",
       "</table>\n",
       "</div>"
      ],
      "text/plain": [
       "                        customer_id  number_of_films_rented  \\\n",
       "customer_id                1.000000               -0.093056   \n",
       "number_of_films_rented    -0.093056                1.000000   \n",
       "total_money_spent         -0.067675                0.957159   \n",
       "films_rented_may_2005     -0.076816                0.424372   \n",
       "\n",
       "                        total_money_spent  films_rented_may_2005  \n",
       "customer_id                     -0.067675              -0.076816  \n",
       "number_of_films_rented           0.957159               0.424372  \n",
       "total_money_spent                1.000000               0.411350  \n",
       "films_rented_may_2005            0.411350               1.000000  "
      ]
     },
     "execution_count": 23,
     "metadata": {},
     "output_type": "execute_result"
    }
   ],
   "source": [
    "# checking data correlations\n",
    "\n",
    "data_corr = data1.corr(method='spearman')\n",
    "data_corr"
   ]
  },
  {
   "cell_type": "code",
   "execution_count": 24,
   "metadata": {
    "scrolled": true
   },
   "outputs": [
    {
     "data": {
      "image/png": "[encoded data removed]",
      "text/plain": [
       "<Figure size 720x576 with 2 Axes>"
      ]
     },
     "metadata": {},
     "output_type": "display_data"
    }
   ],
   "source": [
    "mask = np.zeros_like(data_corr)\n",
    "\n",
    "mask[np.triu_indices_from(mask)] = True \n",
    "\n",
    "fig, ax = plt.subplots(figsize=(10, 8))\n",
    "ax = sns.heatmap(data_corr, mask=mask, annot=True)\n",
    "plt.show()"
   ]
  },
  {
   "cell_type": "code",
   "execution_count": 25,
   "metadata": {
    "scrolled": true
   },
   "outputs": [
    {
     "data": {
      "image/png": "[encoded data removed]",
      "text/plain": [
       "<Figure size 432x288 with 1 Axes>"
      ]
     },
     "metadata": {},
     "output_type": "display_data"
    },
    {
     "data": {
      "image/png": "[encoded data removed]",
      "text/plain": [
       "<Figure size 432x288 with 1 Axes>"
      ]
     },
     "metadata": {},
     "output_type": "display_data"
    },
    {
     "data": {
      "image/png": "[encoded data removed]",
      "text/plain": [
       "<Figure size 432x288 with 1 Axes>"
      ]
     },
     "metadata": {},
     "output_type": "display_data"
    }
   ],
   "source": [
    "# Checkig the distribution for numerical columns\n",
    "\n",
    "for column in data_num.columns:\n",
    "    sns.distplot(data_num[column])\n",
    "    plt.show()"
   ]
  },
  {
   "cell_type": "markdown",
   "metadata": {},
   "source": [
    "# 4. Feature Scaling"
   ]
  },
  {
   "cell_type": "code",
   "execution_count": 26,
   "metadata": {},
   "outputs": [],
   "source": [
    "# We apply a BoxCox transformation to normalize our distributions\n",
    "\n",
    "from scipy import stats\n",
    "\n",
    "def boxcox_transform(data1):\n",
    "    numeric_cols = data1.select_dtypes(np.number).columns\n",
    "    _ci = {column: None for column in numeric_cols}\n",
    "    for column in numeric_cols:\n",
    "        data1[column] = np.where(data1[column]<=0, np.NAN, data1[column]) \n",
    "        data1[column] = data1[column].fillna(data1[column].mean())\n",
    "        transformed_data, ci = stats.boxcox(data1[column])\n",
    "        data1[column] = transformed_data\n",
    "        _ci[column] = ci\n",
    "    return data1, _ci"
   ]
  },
  {
   "cell_type": "code",
   "execution_count": 27,
   "metadata": {},
   "outputs": [],
   "source": [
    "data1, _ci = boxcox_transform(data1)"
   ]
  },
  {
   "cell_type": "markdown",
   "metadata": {},
   "source": [
    "# 5. Solving data imbalance"
   ]
  },
  {
   "cell_type": "code",
   "execution_count": 28,
   "metadata": {},
   "outputs": [],
   "source": [
    "# We proceed to drop city column as the values are really disperse and they add no value to our model (many cities,mostly only one customer per city)\n",
    "\n",
    "data1 = data1.drop('city', axis=1)"
   ]
  },
  {
   "cell_type": "code",
   "execution_count": 29,
   "metadata": {},
   "outputs": [
    {
     "data": {
      "text/html": [
       "<div>\n",
       "<style scoped>\n",
       "    .dataframe tbody tr th:only-of-type {\n",
       "        vertical-align: middle;\n",
       "    }\n",
       "\n",
       "    .dataframe tbody tr th {\n",
       "        vertical-align: top;\n",
       "    }\n",
       "\n",
       "    .dataframe thead th {\n",
       "        text-align: right;\n",
       "    }\n",
       "</style>\n",
       "<table border=\"1\" class=\"dataframe\">\n",
       "  <thead>\n",
       "    <tr style=\"text-align: right;\">\n",
       "      <th></th>\n",
       "      <th>customer_id</th>\n",
       "      <th>number_of_films_rented</th>\n",
       "      <th>total_money_spent</th>\n",
       "      <th>films_rented_may_2005</th>\n",
       "      <th>question</th>\n",
       "      <th>category_Action</th>\n",
       "      <th>category_Animation</th>\n",
       "      <th>category_Children</th>\n",
       "      <th>category_Classics</th>\n",
       "      <th>category_Comedy</th>\n",
       "      <th>...</th>\n",
       "      <th>category_Drama</th>\n",
       "      <th>category_Family</th>\n",
       "      <th>category_Foreign</th>\n",
       "      <th>category_Games</th>\n",
       "      <th>category_Horror</th>\n",
       "      <th>category_Music</th>\n",
       "      <th>category_New</th>\n",
       "      <th>category_Sci-Fi</th>\n",
       "      <th>category_Sports</th>\n",
       "      <th>category_Travel</th>\n",
       "    </tr>\n",
       "  </thead>\n",
       "  <tbody>\n",
       "    <tr>\n",
       "      <th>0</th>\n",
       "      <td>82.961381</td>\n",
       "      <td>11.486502</td>\n",
       "      <td>14.268411</td>\n",
       "      <td>2.326146</td>\n",
       "      <td>YES</td>\n",
       "      <td>0</td>\n",
       "      <td>0</td>\n",
       "      <td>0</td>\n",
       "      <td>0</td>\n",
       "      <td>0</td>\n",
       "      <td>...</td>\n",
       "      <td>0</td>\n",
       "      <td>0</td>\n",
       "      <td>0</td>\n",
       "      <td>0</td>\n",
       "      <td>0</td>\n",
       "      <td>0</td>\n",
       "      <td>0</td>\n",
       "      <td>0</td>\n",
       "      <td>0</td>\n",
       "      <td>0</td>\n",
       "    </tr>\n",
       "    <tr>\n",
       "      <th>1</th>\n",
       "      <td>75.864120</td>\n",
       "      <td>12.924313</td>\n",
       "      <td>14.751795</td>\n",
       "      <td>3.050908</td>\n",
       "      <td>YES</td>\n",
       "      <td>0</td>\n",
       "      <td>0</td>\n",
       "      <td>0</td>\n",
       "      <td>0</td>\n",
       "      <td>0</td>\n",
       "      <td>...</td>\n",
       "      <td>0</td>\n",
       "      <td>1</td>\n",
       "      <td>0</td>\n",
       "      <td>0</td>\n",
       "      <td>0</td>\n",
       "      <td>0</td>\n",
       "      <td>0</td>\n",
       "      <td>0</td>\n",
       "      <td>0</td>\n",
       "      <td>0</td>\n",
       "    </tr>\n",
       "    <tr>\n",
       "      <th>2</th>\n",
       "      <td>69.302121</td>\n",
       "      <td>13.612255</td>\n",
       "      <td>15.046366</td>\n",
       "      <td>3.108483</td>\n",
       "      <td>YES</td>\n",
       "      <td>0</td>\n",
       "      <td>0</td>\n",
       "      <td>0</td>\n",
       "      <td>0</td>\n",
       "      <td>0</td>\n",
       "      <td>...</td>\n",
       "      <td>0</td>\n",
       "      <td>0</td>\n",
       "      <td>0</td>\n",
       "      <td>0</td>\n",
       "      <td>0</td>\n",
       "      <td>0</td>\n",
       "      <td>0</td>\n",
       "      <td>1</td>\n",
       "      <td>0</td>\n",
       "      <td>0</td>\n",
       "    </tr>\n",
       "    <tr>\n",
       "      <th>3</th>\n",
       "      <td>24.700194</td>\n",
       "      <td>12.924313</td>\n",
       "      <td>15.382668</td>\n",
       "      <td>2.460471</td>\n",
       "      <td>NO</td>\n",
       "      <td>0</td>\n",
       "      <td>0</td>\n",
       "      <td>0</td>\n",
       "      <td>0</td>\n",
       "      <td>0</td>\n",
       "      <td>...</td>\n",
       "      <td>1</td>\n",
       "      <td>0</td>\n",
       "      <td>0</td>\n",
       "      <td>0</td>\n",
       "      <td>0</td>\n",
       "      <td>0</td>\n",
       "      <td>0</td>\n",
       "      <td>0</td>\n",
       "      <td>0</td>\n",
       "      <td>0</td>\n",
       "    </tr>\n",
       "    <tr>\n",
       "      <th>4</th>\n",
       "      <td>38.281626</td>\n",
       "      <td>12.924313</td>\n",
       "      <td>15.456736</td>\n",
       "      <td>3.050908</td>\n",
       "      <td>YES</td>\n",
       "      <td>0</td>\n",
       "      <td>0</td>\n",
       "      <td>0</td>\n",
       "      <td>0</td>\n",
       "      <td>0</td>\n",
       "      <td>...</td>\n",
       "      <td>1</td>\n",
       "      <td>0</td>\n",
       "      <td>0</td>\n",
       "      <td>0</td>\n",
       "      <td>0</td>\n",
       "      <td>0</td>\n",
       "      <td>0</td>\n",
       "      <td>0</td>\n",
       "      <td>0</td>\n",
       "      <td>0</td>\n",
       "    </tr>\n",
       "    <tr>\n",
       "      <th>...</th>\n",
       "      <td>...</td>\n",
       "      <td>...</td>\n",
       "      <td>...</td>\n",
       "      <td>...</td>\n",
       "      <td>...</td>\n",
       "      <td>...</td>\n",
       "      <td>...</td>\n",
       "      <td>...</td>\n",
       "      <td>...</td>\n",
       "      <td>...</td>\n",
       "      <td>...</td>\n",
       "      <td>...</td>\n",
       "      <td>...</td>\n",
       "      <td>...</td>\n",
       "      <td>...</td>\n",
       "      <td>...</td>\n",
       "      <td>...</td>\n",
       "      <td>...</td>\n",
       "      <td>...</td>\n",
       "      <td>...</td>\n",
       "      <td>...</td>\n",
       "    </tr>\n",
       "    <tr>\n",
       "      <th>594</th>\n",
       "      <td>54.460223</td>\n",
       "      <td>26.751729</td>\n",
       "      <td>27.950117</td>\n",
       "      <td>3.693500</td>\n",
       "      <td>YES</td>\n",
       "      <td>0</td>\n",
       "      <td>0</td>\n",
       "      <td>0</td>\n",
       "      <td>0</td>\n",
       "      <td>0</td>\n",
       "      <td>...</td>\n",
       "      <td>0</td>\n",
       "      <td>0</td>\n",
       "      <td>0</td>\n",
       "      <td>0</td>\n",
       "      <td>0</td>\n",
       "      <td>0</td>\n",
       "      <td>0</td>\n",
       "      <td>0</td>\n",
       "      <td>0</td>\n",
       "      <td>1</td>\n",
       "    </tr>\n",
       "    <tr>\n",
       "      <th>595</th>\n",
       "      <td>44.978921</td>\n",
       "      <td>26.751729</td>\n",
       "      <td>27.950117</td>\n",
       "      <td>3.325489</td>\n",
       "      <td>YES</td>\n",
       "      <td>0</td>\n",
       "      <td>0</td>\n",
       "      <td>0</td>\n",
       "      <td>0</td>\n",
       "      <td>0</td>\n",
       "      <td>...</td>\n",
       "      <td>0</td>\n",
       "      <td>0</td>\n",
       "      <td>0</td>\n",
       "      <td>1</td>\n",
       "      <td>0</td>\n",
       "      <td>0</td>\n",
       "      <td>0</td>\n",
       "      <td>0</td>\n",
       "      <td>0</td>\n",
       "      <td>0</td>\n",
       "    </tr>\n",
       "    <tr>\n",
       "      <th>596</th>\n",
       "      <td>46.650414</td>\n",
       "      <td>28.121469</td>\n",
       "      <td>28.521023</td>\n",
       "      <td>3.942822</td>\n",
       "      <td>YES</td>\n",
       "      <td>0</td>\n",
       "      <td>0</td>\n",
       "      <td>0</td>\n",
       "      <td>0</td>\n",
       "      <td>0</td>\n",
       "      <td>...</td>\n",
       "      <td>1</td>\n",
       "      <td>0</td>\n",
       "      <td>0</td>\n",
       "      <td>0</td>\n",
       "      <td>0</td>\n",
       "      <td>0</td>\n",
       "      <td>0</td>\n",
       "      <td>0</td>\n",
       "      <td>0</td>\n",
       "      <td>0</td>\n",
       "    </tr>\n",
       "    <tr>\n",
       "      <th>597</th>\n",
       "      <td>47.594964</td>\n",
       "      <td>29.888473</td>\n",
       "      <td>29.955143</td>\n",
       "      <td>3.460469</td>\n",
       "      <td>YES</td>\n",
       "      <td>0</td>\n",
       "      <td>0</td>\n",
       "      <td>0</td>\n",
       "      <td>0</td>\n",
       "      <td>0</td>\n",
       "      <td>...</td>\n",
       "      <td>0</td>\n",
       "      <td>0</td>\n",
       "      <td>0</td>\n",
       "      <td>0</td>\n",
       "      <td>0</td>\n",
       "      <td>0</td>\n",
       "      <td>0</td>\n",
       "      <td>1</td>\n",
       "      <td>0</td>\n",
       "      <td>0</td>\n",
       "    </tr>\n",
       "    <tr>\n",
       "      <th>598</th>\n",
       "      <td>119.218868</td>\n",
       "      <td>29.452672</td>\n",
       "      <td>29.961937</td>\n",
       "      <td>4.312028</td>\n",
       "      <td>YES</td>\n",
       "      <td>0</td>\n",
       "      <td>1</td>\n",
       "      <td>0</td>\n",
       "      <td>0</td>\n",
       "      <td>0</td>\n",
       "      <td>...</td>\n",
       "      <td>0</td>\n",
       "      <td>0</td>\n",
       "      <td>0</td>\n",
       "      <td>0</td>\n",
       "      <td>0</td>\n",
       "      <td>0</td>\n",
       "      <td>0</td>\n",
       "      <td>0</td>\n",
       "      <td>0</td>\n",
       "      <td>0</td>\n",
       "    </tr>\n",
       "  </tbody>\n",
       "</table>\n",
       "<p>599 rows × 21 columns</p>\n",
       "</div>"
      ],
      "text/plain": [
       "     customer_id  number_of_films_rented  total_money_spent  \\\n",
       "0      82.961381               11.486502          14.268411   \n",
       "1      75.864120               12.924313          14.751795   \n",
       "2      69.302121               13.612255          15.046366   \n",
       "3      24.700194               12.924313          15.382668   \n",
       "4      38.281626               12.924313          15.456736   \n",
       "..           ...                     ...                ...   \n",
       "594    54.460223               26.751729          27.950117   \n",
       "595    44.978921               26.751729          27.950117   \n",
       "596    46.650414               28.121469          28.521023   \n",
       "597    47.594964               29.888473          29.955143   \n",
       "598   119.218868               29.452672          29.961937   \n",
       "\n",
       "     films_rented_may_2005 question  category_Action  category_Animation  \\\n",
       "0                 2.326146      YES                0                   0   \n",
       "1                 3.050908      YES                0                   0   \n",
       "2                 3.108483      YES                0                   0   \n",
       "3                 2.460471       NO                0                   0   \n",
       "4                 3.050908      YES                0                   0   \n",
       "..                     ...      ...              ...                 ...   \n",
       "594               3.693500      YES                0                   0   \n",
       "595               3.325489      YES                0                   0   \n",
       "596               3.942822      YES                0                   0   \n",
       "597               3.460469      YES                0                   0   \n",
       "598               4.312028      YES                0                   1   \n",
       "\n",
       "     category_Children  category_Classics  category_Comedy  ...  \\\n",
       "0                    0                  0                0  ...   \n",
       "1                    0                  0                0  ...   \n",
       "2                    0                  0                0  ...   \n",
       "3                    0                  0                0  ...   \n",
       "4                    0                  0                0  ...   \n",
       "..                 ...                ...              ...  ...   \n",
       "594                  0                  0                0  ...   \n",
       "595                  0                  0                0  ...   \n",
       "596                  0                  0                0  ...   \n",
       "597                  0                  0                0  ...   \n",
       "598                  0                  0                0  ...   \n",
       "\n",
       "     category_Drama  category_Family  category_Foreign  category_Games  \\\n",
       "0                 0                0                 0               0   \n",
       "1                 0                1                 0               0   \n",
       "2                 0                0                 0               0   \n",
       "3                 1                0                 0               0   \n",
       "4                 1                0                 0               0   \n",
       "..              ...              ...               ...             ...   \n",
       "594               0                0                 0               0   \n",
       "595               0                0                 0               1   \n",
       "596               1                0                 0               0   \n",
       "597               0                0                 0               0   \n",
       "598               0                0                 0               0   \n",
       "\n",
       "     category_Horror  category_Music  category_New  category_Sci-Fi  \\\n",
       "0                  0               0             0                0   \n",
       "1                  0               0             0                0   \n",
       "2                  0               0             0                1   \n",
       "3                  0               0             0                0   \n",
       "4                  0               0             0                0   \n",
       "..               ...             ...           ...              ...   \n",
       "594                0               0             0                0   \n",
       "595                0               0             0                0   \n",
       "596                0               0             0                0   \n",
       "597                0               0             0                1   \n",
       "598                0               0             0                0   \n",
       "\n",
       "     category_Sports  category_Travel  \n",
       "0                  0                0  \n",
       "1                  0                0  \n",
       "2                  0                0  \n",
       "3                  0                0  \n",
       "4                  0                0  \n",
       "..               ...              ...  \n",
       "594                0                1  \n",
       "595                0                0  \n",
       "596                0                0  \n",
       "597                0                0  \n",
       "598                0                0  \n",
       "\n",
       "[599 rows x 21 columns]"
      ]
     },
     "execution_count": 29,
     "metadata": {},
     "output_type": "execute_result"
    }
   ],
   "source": [
    "data2 = data1=pd.get_dummies(data1,columns=['category'])\n",
    "data2"
   ]
  },
  {
   "cell_type": "code",
   "execution_count": 34,
   "metadata": {
    "scrolled": true
   },
   "outputs": [
    {
     "data": {
      "text/plain": [
       "NO     590\n",
       "YES    590\n",
       "Name: question, dtype: int64"
      ]
     },
     "execution_count": 34,
     "metadata": {},
     "output_type": "execute_result"
    }
   ],
   "source": [
    "# SMOTE - we use an upsampling method as the data base is too small and we do not want to lose too much info.\n",
    "# I drop the target variable but also total_money_spent as it had a really high correlation with number of films...\n",
    "\n",
    "from imblearn.over_sampling import SMOTE\n",
    "\n",
    "smote = SMOTE()\n",
    "\n",
    "X = data2.drop(['question','total_money_spent'], axis = 1) \n",
    "y = data2['question']\n",
    "\n",
    "X,y = smote.fit_resample(X, y)\n",
    "y.value_counts()"
   ]
  },
  {
   "cell_type": "markdown",
   "metadata": {},
   "source": [
    "# 6. Running the model"
   ]
  },
  {
   "cell_type": "code",
   "execution_count": 35,
   "metadata": {
    "scrolled": true
   },
   "outputs": [],
   "source": [
    "# Train / Test split\n",
    "\n",
    "from sklearn.model_selection import train_test_split\n",
    "\n",
    "X_train, X_test, y_train, y_test = train_test_split(X, y, test_size=0.2, random_state=42)"
   ]
  },
  {
   "cell_type": "code",
   "execution_count": 36,
   "metadata": {},
   "outputs": [
    {
     "data": {
      "text/plain": [
       "LogisticRegression(max_iter=10000, random_state=42)"
      ]
     },
     "execution_count": 36,
     "metadata": {},
     "output_type": "execute_result"
    }
   ],
   "source": [
    "# We train the model\n",
    "\n",
    "from sklearn.linear_model import LogisticRegression\n",
    "\n",
    "classification = LogisticRegression(random_state=42, max_iter=10000)\n",
    "classification.fit(X_train, y_train)"
   ]
  },
  {
   "cell_type": "markdown",
   "metadata": {},
   "source": [
    "# 7. Evaluating the model"
   ]
  },
  {
   "cell_type": "code",
   "execution_count": 37,
   "metadata": {},
   "outputs": [
    {
     "data": {
      "text/plain": [
       "0.9915254237288136"
      ]
     },
     "execution_count": 37,
     "metadata": {},
     "output_type": "execute_result"
    }
   ],
   "source": [
    "classification.score(X_test, y_test)"
   ]
  },
  {
   "cell_type": "code",
   "execution_count": 38,
   "metadata": {},
   "outputs": [
    {
     "data": {
      "image/png": "[encoded data removed]",
      "text/plain": [
       "<Figure size 432x288 with 2 Axes>"
      ]
     },
     "metadata": {},
     "output_type": "display_data"
    }
   ],
   "source": [
    "from sklearn.metrics import plot_confusion_matrix\n",
    "\n",
    "plot_confusion_matrix(classification, X_test, y_test, cmap='Blues')\n",
    "plt.show()"
   ]
  },
  {
   "cell_type": "code",
   "execution_count": 39,
   "metadata": {
    "scrolled": true
   },
   "outputs": [
    {
     "name": "stdout",
     "output_type": "stream",
     "text": [
      "              precision    recall  f1-score   support\n",
      "\n",
      "          NO       0.99      0.99      0.99       118\n",
      "         YES       0.99      0.99      0.99       118\n",
      "\n",
      "    accuracy                           0.99       236\n",
      "   macro avg       0.99      0.99      0.99       236\n",
      "weighted avg       0.99      0.99      0.99       236\n",
      "\n"
     ]
    }
   ],
   "source": [
    "from sklearn import metrics\n",
    "\n",
    "predictions = classification.predict(X_test)\n",
    "print(metrics.classification_report(y_test, predictions))"
   ]
  },
  {
   "cell_type": "markdown",
   "metadata": {},
   "source": [
    "# 8. Conclusions & Key Takeaways"
   ]
  },
  {
   "cell_type": "markdown",
   "metadata": {},
   "source": [
    "- We have developed a model that can accurately predict (0.99 in accuracy) the likelyhood of a customer renting a movie next month\n",
    "- We have accomplished the same high fi-score for both options (YES/NO) meaning that the model will be able to predict both outcomes with the same accuracy\n",
    "- We have acknowledged the importance of dealing with data imbalance in a dataset that was particularly \"biased\" towards one option (in this case the vast majority of customers had rented a movie last month)\n",
    "- Having normilised the data distributions leveraging box-cox transformation has also helped us to get a more accurate model"
   ]
  }
 ],
 "metadata": {
  "kernelspec": {
   "display_name": "Python 3",
   "language": "python",
   "name": "python3"
  },
  "language_info": {
   "codemirror_mode": {
    "name": "ipython",
    "version": 3
   },
   "file_extension": ".py",
   "mimetype": "text/x-python",
   "name": "python",
   "nbconvert_exporter": "python",
   "pygments_lexer": "ipython3",
   "version": "3.8.5"
  }
 },
 "nbformat": 4,
 "nbformat_minor": 4
}
